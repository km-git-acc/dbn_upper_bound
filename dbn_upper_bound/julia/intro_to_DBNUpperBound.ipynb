{
 "cells": [
  {
   "cell_type": "markdown",
   "metadata": {},
   "source": [
    "# Installation and preliminary use of DBNUpperBound\n",
    "\n",
    "[Julia](https://julialang.org/) is a relatively new, high level, scientific programming language. Syntactically concise and readable, carefully written Julia code can rival the performance of compiled C/C++ binaries. However, the language is still under development, barely at version 0.7 at this writing. Version 1.0 is expected later this year and, as a major version upgrade, is not guaranteed to be backwards compatible with code written in earlier versions. I'd thus expect the Julia package DNBUpperBound ([here](https://github.com/WilCrofter/DBNUpperBound.jl) or [here](https://github.com/km-git-acc/DBNUpperBound.jl)) to be something of a sideshow in Polymath 15. Nonetheless it will be interesting to experiment with this new language in a pure math context.\n",
    "\n",
    "This notebook will numerically demonstrate the zero crossing of $H_0(x)$ near $x=28.26$. It will also demonstrate the use of multiprecision arguments in $H_t$ and $\\Phi,$ as they are defined on on the [PolyMath 15 wiki](http://michaelnielsen.org/polymath1/index.php?title=De_Bruijn-Newman_constant)) and of complex arguments in the former.\n",
    "\n",
    "The package and its dependencies can be installed from a Julia shell (a.k.a. REPL) using either of the two locations given above. For example,\n",
    "\n",
    "```\n",
    "julia> Pkg.clone(\"https://github.com/WilCrofter/DBNUpperBound.jl.git\")\n",
    "```\n",
    "or, if you've [added an ssh public key to your GitHub account](https://help.github.com/articles/adding-a-new-ssh-key-to-your-github-account/)\n",
    "\n",
    "```\n",
    "julia> Pkg.clone(\"git@github.com:km-git-acc/DBNUpperBound.jl.git\")\n",
    "```\n",
    "To remain current,\n",
    "\n",
    "```\n",
    "julia> Pkg.update(\"DBNUpperBound\")\n",
    "```\n",
    "\n",
    "As of this writing, `phi_decay`, its alias `Φpm`, and `Ht` have been implemented and checked against [KM's Python code](https://github.com/km-git-acc/dbn_upper_bound). Implementation of a number of others is underway. I have used (UTF-8) Greek letters such as `Φ` and other mathematical notation such as `≈` which Julia allows, in hopes that the code would more clearly correspond to the math. I'm not at all sure about this--it may be more confusing than clarifying--hence I'll probably maintain both conventional and mathematical aliases for functions such as `phi_decay` and `Φ`, `zeta` and `ζ`, and so on.\n",
    "\n",
    "### Loading the package and viewing documentation\n",
    "\n",
    "\n",
    "To load the package from the Julia REPL (interactive shell) or a code snippet in a Jupyter notebook such as this one: "
   ]
  },
  {
   "cell_type": "code",
   "execution_count": 1,
   "metadata": {
    "collapsed": true
   },
   "outputs": [],
   "source": [
    "using DBNUpperBound"
   ]
  },
  {
   "cell_type": "markdown",
   "metadata": {},
   "source": [
    "To see what functions the package exports:"
   ]
  },
  {
   "cell_type": "code",
   "execution_count": 2,
   "metadata": {},
   "outputs": [
    {
     "data": {
      "text/plain": [
       "13-element Array{Symbol,1}:\n",
       " :DBNUpperBound\n",
       " :H0           \n",
       " :Ht           \n",
       " :Xi           \n",
       " :gamma        \n",
       " :phi_decay    \n",
       " :xi           \n",
       " :zeta         \n",
       " :Γ            \n",
       " :Ξ            \n",
       " :Φpm          \n",
       " :ζ            \n",
       " :ξ            "
      ]
     },
     "execution_count": 2,
     "metadata": {},
     "output_type": "execute_result"
    }
   ],
   "source": [
    "names(DBNUpperBound)"
   ]
  },
  {
   "cell_type": "markdown",
   "metadata": {},
   "source": [
    "To view documentation for `Ht`:"
   ]
  },
  {
   "cell_type": "code",
   "execution_count": 3,
   "metadata": {},
   "outputs": [
    {
     "name": "stdout",
     "output_type": "stream",
     "text": [
      "search: \u001b[1mH\u001b[22m\u001b[1mt\u001b[22m \u001b[1mh\u001b[22m\u001b[1mt\u001b[22mon \u001b[1mh\u001b[22m\u001b[1mt\u001b[22mol \u001b[1mH\u001b[22m\u001b[1mT\u001b[22mML @\u001b[1mh\u001b[22m\u001b[1mt\u001b[22mml_str \u001b[1mh\u001b[22mca\u001b[1mt\u001b[22m s\u001b[1mh\u001b[22mif\u001b[1mt\u001b[22m! Cs\u001b[1mh\u001b[22mor\u001b[1mt\u001b[22m Cus\u001b[1mh\u001b[22mor\u001b[1mt\u001b[22m uns\u001b[1mh\u001b[22mif\u001b[1mt\u001b[22m!\n",
      "\n"
     ]
    },
    {
     "data": {
      "text/markdown": [
       "Ht(t, z; n_max=100)\n",
       "\n",
       "Returns a 2-tuple of an approximate value of Ht(z) and an estimated error of approximation. Ht(z) is the integral from 0 to ∞ of Φ(u)*exp(t*u^2)*cos(uz), where the first two factors are approximated by truncated series of n_max (default 100) terms. (See http://michaelnielsen.org/polymath1/index.php?title=De_Bruijn-Newman_constant).\n"
      ],
      "text/plain": [
       "Ht(t, z; n_max=100)\n",
       "\n",
       "Returns a 2-tuple of an approximate value of Ht(z) and an estimated error of approximation. Ht(z) is the integral from 0 to ∞ of Φ(u)*exp(t*u^2)*cos(uz), where the first two factors are approximated by truncated series of n_max (default 100) terms. (See http://michaelnielsen.org/polymath1/index.php?title=De_Bruijn-Newman_constant).\n"
      ]
     },
     "execution_count": 3,
     "metadata": {},
     "output_type": "execute_result"
    }
   ],
   "source": [
    "?Ht"
   ]
  },
  {
   "cell_type": "markdown",
   "metadata": {},
   "source": [
    "### Basic use of Ht, phi_decay and/or Φpm\n",
    "\n",
    "(Note: Φ as defined at the PolyMath wiki is implemented here as `Φpm` to avoid a name conflict with Φ as defined in Ki, Kim, and Lee.)\n",
    "\n",
    "KM's Python implementation gives the following value for `phi_decay(0.001)`\n",
    "\n",
    "```\n",
    ">>> print phi_decay(0.001)\n",
    "0.446680170237\n",
    "```\n",
    "The value can be reproduced in Julia using either `phi_decay` or `Φpm`:"
   ]
  },
  {
   "cell_type": "code",
   "execution_count": 4,
   "metadata": {},
   "outputs": [
    {
     "data": {
      "text/plain": [
       "0.44668017023706735"
      ]
     },
     "execution_count": 4,
     "metadata": {},
     "output_type": "execute_result"
    }
   ],
   "source": [
    "phi_decay(0.001)"
   ]
  },
  {
   "cell_type": "code",
   "execution_count": 12,
   "metadata": {
    "scrolled": true
   },
   "outputs": [
    {
     "data": {
      "text/plain": [
       "0.44668017023706735"
      ]
     },
     "execution_count": 12,
     "metadata": {},
     "output_type": "execute_result"
    }
   ],
   "source": [
    "Φpm(0.001)"
   ]
  },
  {
   "cell_type": "markdown",
   "metadata": {},
   "source": [
    "Julia [supports multiprecision arithmetic](https://docs.julialang.org/en/release-0.4/manual/integers-and-floating-point-numbers/#man-arbitrary-precision-arithmetic). Called with multiprecision arguments, `Φ` (and `Ht`) will return multiprecision answers (with a performance penalty. Default multiprecision is 256 bits which can be adjusted.)"
   ]
  },
  {
   "cell_type": "code",
   "execution_count": 6,
   "metadata": {
    "scrolled": true
   },
   "outputs": [
    {
     "data": {
      "text/plain": [
       "4.466801702370674474032712046941347864334216591013665387080186092609070619197624e-01"
      ]
     },
     "execution_count": 6,
     "metadata": {},
     "output_type": "execute_result"
    }
   ],
   "source": [
    "Φpm(BigFloat(0.001))"
   ]
  },
  {
   "cell_type": "markdown",
   "metadata": {},
   "source": [
    "`Ht(t,z)` returns an approximation of $H_t(z)$ and an estimate of quadrature error. Argument `z` may be complex."
   ]
  },
  {
   "cell_type": "code",
   "execution_count": 7,
   "metadata": {},
   "outputs": [
    {
     "data": {
      "text/plain": [
       "(0.0630122140146516 - 0.0002186429865288526im, 4.277384503376466e-10)"
      ]
     },
     "execution_count": 7,
     "metadata": {},
     "output_type": "execute_result"
    }
   ],
   "source": [
    "z=0.2+1.5im\n",
    "Ht(0.1,z)"
   ]
  },
  {
   "cell_type": "markdown",
   "metadata": {},
   "source": [
    "We can demonstrate computationally that $H_t$ is even and that $H_t(\\bar{z}) = \\overline{H_t(z)}$. (In Julia, `z'` is the complex conjugate of `z`.)"
   ]
  },
  {
   "cell_type": "code",
   "execution_count": 8,
   "metadata": {},
   "outputs": [
    {
     "data": {
      "text/plain": [
       "true"
      ]
     },
     "execution_count": 8,
     "metadata": {},
     "output_type": "execute_result"
    }
   ],
   "source": [
    "Ht(0.1, -z)[1] == Ht(0.1, z)[1]"
   ]
  },
  {
   "cell_type": "code",
   "execution_count": 9,
   "metadata": {},
   "outputs": [
    {
     "data": {
      "text/plain": [
       "true"
      ]
     },
     "execution_count": 9,
     "metadata": {},
     "output_type": "execute_result"
    }
   ],
   "source": [
    "Ht(0.1, z')[1] == Ht(0.1, z)[1]'"
   ]
  },
  {
   "cell_type": "markdown",
   "metadata": {},
   "source": [
    "### $H_0(z)$'s zero near 28.26\n",
    "\n",
    "We'll plot the value of $H_0(z)$ for real $z$ near 28.26 to demonstrate a zero crossing in that vicinity. The following code requires Julia packages `Plots` and `GR` as well as the [GR framework binary](https://gr-framework.org/). Other Julia plotting libraries, such as `PyPlot` could have been used instead."
   ]
  },
  {
   "cell_type": "code",
   "execution_count": 10,
   "metadata": {},
   "outputs": [
    {
     "data": {
      "text/plain": [
       "Plots.GRBackend()"
      ]
     },
     "execution_count": 10,
     "metadata": {},
     "output_type": "execute_result"
    }
   ],
   "source": [
    "using Plots\n",
    "gr()"
   ]
  },
  {
   "cell_type": "markdown",
   "metadata": {},
   "source": [
    "We'll calculate $H_0(x)$ for $28.00 \\le x \\le 28.5$ in increments of $0.01$ and plot the result."
   ]
  },
  {
   "cell_type": "code",
   "execution_count": 11,
   "metadata": {},
   "outputs": [
    {
     "data": {
      "text/html": [
       "<?xml version=\"1.0\" encoding=\"utf-8\"?>\n",
       "<svg xmlns=\"http://www.w3.org/2000/svg\" xmlns:xlink=\"http://www.w3.org/1999/xlink\" width=\"600\" height=\"400\" viewBox=\"0 0 600 400\">\n",
       "<defs>\n",
       "  <clipPath id=\"clip00\">\n",
       "    <rect x=\"0\" y=\"0\" width=\"600\" height=\"400\"/>\n",
       "  </clipPath>\n",
       "</defs>\n",
       "<polygon clip-path=\"url(#clip4100)\" points=\"\n",
       "0,400 600,400 600,0 0,0 \n",
       "  \" fill=\"#ffffff\" fill-opacity=\"1\"/>\n",
       "<defs>\n",
       "  <clipPath id=\"clip01\">\n",
       "    <rect x=\"120\" y=\"0\" width=\"421\" height=\"400\"/>\n",
       "  </clipPath>\n",
       "</defs>\n",
       "<polygon clip-path=\"url(#clip4100)\" points=\"\n",
       "81.2501,360.065 580.315,360.065 580.315,31.4961 81.2501,31.4961 \n",
       "  \" fill=\"#ffffff\" fill-opacity=\"1\"/>\n",
       "<defs>\n",
       "  <clipPath id=\"clip02\">\n",
       "    <rect x=\"81\" y=\"31\" width=\"500\" height=\"330\"/>\n",
       "  </clipPath>\n",
       "</defs>\n",
       "<polyline clip-path=\"url(#clip4102)\" style=\"stroke:#000000; stroke-width:0.5; stroke-opacity:0.1; fill:none\" points=\"\n",
       "  108.7,355.137 108.7,36.4246 \n",
       "  \"/>\n",
       "<polyline clip-path=\"url(#clip4102)\" style=\"stroke:#000000; stroke-width:0.5; stroke-opacity:0.1; fill:none\" points=\"\n",
       "  197.533,355.137 197.533,36.4246 \n",
       "  \"/>\n",
       "<polyline clip-path=\"url(#clip4102)\" style=\"stroke:#000000; stroke-width:0.5; stroke-opacity:0.1; fill:none\" points=\"\n",
       "  286.366,355.137 286.366,36.4246 \n",
       "  \"/>\n",
       "<polyline clip-path=\"url(#clip4102)\" style=\"stroke:#000000; stroke-width:0.5; stroke-opacity:0.1; fill:none\" points=\"\n",
       "  375.199,355.137 375.199,36.4246 \n",
       "  \"/>\n",
       "<polyline clip-path=\"url(#clip4102)\" style=\"stroke:#000000; stroke-width:0.5; stroke-opacity:0.1; fill:none\" points=\"\n",
       "  464.032,355.137 464.032,36.4246 \n",
       "  \"/>\n",
       "<polyline clip-path=\"url(#clip4102)\" style=\"stroke:#000000; stroke-width:0.5; stroke-opacity:0.1; fill:none\" points=\"\n",
       "  552.866,355.137 552.866,36.4246 \n",
       "  \"/>\n",
       "<polyline clip-path=\"url(#clip4102)\" style=\"stroke:#000000; stroke-width:0.5; stroke-opacity:0.1; fill:none\" points=\"\n",
       "  88.7361,289.693 572.829,289.693 \n",
       "  \"/>\n",
       "<polyline clip-path=\"url(#clip4102)\" style=\"stroke:#000000; stroke-width:0.5; stroke-opacity:0.1; fill:none\" points=\"\n",
       "  88.7361,218.906 572.829,218.906 \n",
       "  \"/>\n",
       "<polyline clip-path=\"url(#clip4102)\" style=\"stroke:#000000; stroke-width:0.5; stroke-opacity:0.1; fill:none\" points=\"\n",
       "  88.7361,148.12 572.829,148.12 \n",
       "  \"/>\n",
       "<polyline clip-path=\"url(#clip4102)\" style=\"stroke:#000000; stroke-width:0.5; stroke-opacity:0.1; fill:none\" points=\"\n",
       "  88.7361,77.3337 572.829,77.3337 \n",
       "  \"/>\n",
       "<polyline clip-path=\"url(#clip4100)\" style=\"stroke:#000000; stroke-width:1; stroke-opacity:1; fill:none\" points=\"\n",
       "  81.2501,360.065 580.315,360.065 \n",
       "  \"/>\n",
       "<polyline clip-path=\"url(#clip4100)\" style=\"stroke:#000000; stroke-width:1; stroke-opacity:1; fill:none\" points=\"\n",
       "  81.2501,360.065 81.2501,31.4961 \n",
       "  \"/>\n",
       "<polyline clip-path=\"url(#clip4100)\" style=\"stroke:#000000; stroke-width:1; stroke-opacity:1; fill:none\" points=\"\n",
       "  108.7,360.065 108.7,355.137 \n",
       "  \"/>\n",
       "<polyline clip-path=\"url(#clip4100)\" style=\"stroke:#000000; stroke-width:1; stroke-opacity:1; fill:none\" points=\"\n",
       "  197.533,360.065 197.533,355.137 \n",
       "  \"/>\n",
       "<polyline clip-path=\"url(#clip4100)\" style=\"stroke:#000000; stroke-width:1; stroke-opacity:1; fill:none\" points=\"\n",
       "  286.366,360.065 286.366,355.137 \n",
       "  \"/>\n",
       "<polyline clip-path=\"url(#clip4100)\" style=\"stroke:#000000; stroke-width:1; stroke-opacity:1; fill:none\" points=\"\n",
       "  375.199,360.065 375.199,355.137 \n",
       "  \"/>\n",
       "<polyline clip-path=\"url(#clip4100)\" style=\"stroke:#000000; stroke-width:1; stroke-opacity:1; fill:none\" points=\"\n",
       "  464.032,360.065 464.032,355.137 \n",
       "  \"/>\n",
       "<polyline clip-path=\"url(#clip4100)\" style=\"stroke:#000000; stroke-width:1; stroke-opacity:1; fill:none\" points=\"\n",
       "  552.866,360.065 552.866,355.137 \n",
       "  \"/>\n",
       "<polyline clip-path=\"url(#clip4100)\" style=\"stroke:#000000; stroke-width:1; stroke-opacity:1; fill:none\" points=\"\n",
       "  81.2501,289.693 88.7361,289.693 \n",
       "  \"/>\n",
       "<polyline clip-path=\"url(#clip4100)\" style=\"stroke:#000000; stroke-width:1; stroke-opacity:1; fill:none\" points=\"\n",
       "  81.2501,218.906 88.7361,218.906 \n",
       "  \"/>\n",
       "<polyline clip-path=\"url(#clip4100)\" style=\"stroke:#000000; stroke-width:1; stroke-opacity:1; fill:none\" points=\"\n",
       "  81.2501,148.12 88.7361,148.12 \n",
       "  \"/>\n",
       "<polyline clip-path=\"url(#clip4100)\" style=\"stroke:#000000; stroke-width:1; stroke-opacity:1; fill:none\" points=\"\n",
       "  81.2501,77.3337 88.7361,77.3337 \n",
       "  \"/>\n",
       "<g clip-path=\"url(#clip4100)\">\n",
       "<text style=\"fill:#000000; fill-opacity:1; font-family:Arial,Helvetica Neue,Helvetica,sans-serif; font-size:12; text-anchor:middle;\" transform=\"rotate(0, 108.7, 373.865)\" x=\"108.7\" y=\"373.865\">28.0</text>\n",
       "</g>\n",
       "<g clip-path=\"url(#clip4100)\">\n",
       "<text style=\"fill:#000000; fill-opacity:1; font-family:Arial,Helvetica Neue,Helvetica,sans-serif; font-size:12; text-anchor:middle;\" transform=\"rotate(0, 197.533, 373.865)\" x=\"197.533\" y=\"373.865\">28.1</text>\n",
       "</g>\n",
       "<g clip-path=\"url(#clip4100)\">\n",
       "<text style=\"fill:#000000; fill-opacity:1; font-family:Arial,Helvetica Neue,Helvetica,sans-serif; font-size:12; text-anchor:middle;\" transform=\"rotate(0, 286.366, 373.865)\" x=\"286.366\" y=\"373.865\">28.2</text>\n",
       "</g>\n",
       "<g clip-path=\"url(#clip4100)\">\n",
       "<text style=\"fill:#000000; fill-opacity:1; font-family:Arial,Helvetica Neue,Helvetica,sans-serif; font-size:12; text-anchor:middle;\" transform=\"rotate(0, 375.199, 373.865)\" x=\"375.199\" y=\"373.865\">28.3</text>\n",
       "</g>\n",
       "<g clip-path=\"url(#clip4100)\">\n",
       "<text style=\"fill:#000000; fill-opacity:1; font-family:Arial,Helvetica Neue,Helvetica,sans-serif; font-size:12; text-anchor:middle;\" transform=\"rotate(0, 464.032, 373.865)\" x=\"464.032\" y=\"373.865\">28.4</text>\n",
       "</g>\n",
       "<g clip-path=\"url(#clip4100)\">\n",
       "<text style=\"fill:#000000; fill-opacity:1; font-family:Arial,Helvetica Neue,Helvetica,sans-serif; font-size:12; text-anchor:middle;\" transform=\"rotate(0, 552.866, 373.865)\" x=\"552.866\" y=\"373.865\">28.5</text>\n",
       "</g>\n",
       "<g clip-path=\"url(#clip4100)\">\n",
       "<text style=\"fill:#000000; fill-opacity:1; font-family:Arial,Helvetica Neue,Helvetica,sans-serif; font-size:12; text-anchor:end;\" transform=\"rotate(0, 75.2501, 294.193)\" x=\"75.2501\" y=\"294.193\">-0.00001</text>\n",
       "</g>\n",
       "<g clip-path=\"url(#clip4100)\">\n",
       "<text style=\"fill:#000000; fill-opacity:1; font-family:Arial,Helvetica Neue,Helvetica,sans-serif; font-size:12; text-anchor:end;\" transform=\"rotate(0, 75.2501, 223.406)\" x=\"75.2501\" y=\"223.406\">0.00000</text>\n",
       "</g>\n",
       "<g clip-path=\"url(#clip4100)\">\n",
       "<text style=\"fill:#000000; fill-opacity:1; font-family:Arial,Helvetica Neue,Helvetica,sans-serif; font-size:12; text-anchor:end;\" transform=\"rotate(0, 75.2501, 152.62)\" x=\"75.2501\" y=\"152.62\">0.00001</text>\n",
       "</g>\n",
       "<g clip-path=\"url(#clip4100)\">\n",
       "<text style=\"fill:#000000; fill-opacity:1; font-family:Arial,Helvetica Neue,Helvetica,sans-serif; font-size:12; text-anchor:end;\" transform=\"rotate(0, 75.2501, 81.8337)\" x=\"75.2501\" y=\"81.8337\">0.00002</text>\n",
       "</g>\n",
       "<g clip-path=\"url(#clip4100)\">\n",
       "<text style=\"fill:#000000; fill-opacity:1; font-family:Arial,Helvetica Neue,Helvetica,sans-serif; font-size:21; text-anchor:middle;\" transform=\"rotate(0, 330.783, 18)\" x=\"330.783\" y=\"18\">H0&apos;s zero near 28.26</text>\n",
       "</g>\n",
       "<g clip-path=\"url(#clip4100)\">\n",
       "<text style=\"fill:#000000; fill-opacity:1; font-family:Arial,Helvetica Neue,Helvetica,sans-serif; font-size:16; text-anchor:middle;\" transform=\"rotate(0, 330.783, 397.6)\" x=\"330.783\" y=\"397.6\">x</text>\n",
       "</g>\n",
       "<g clip-path=\"url(#clip4100)\">\n",
       "<text style=\"fill:#000000; fill-opacity:1; font-family:Arial,Helvetica Neue,Helvetica,sans-serif; font-size:16; text-anchor:middle;\" transform=\"rotate(-90, 14.4, 195.781)\" x=\"14.4\" y=\"195.781\">H0</text>\n",
       "</g>\n",
       "<circle clip-path=\"url(#clip4102)\" style=\"fill:#000000; stroke:none; fill-opacity:1\" cx=\"108.7\" cy=\"40.7952\" r=\"4\"/>\n",
       "<circle clip-path=\"url(#clip4102)\" style=\"fill:#009af9; stroke:none; fill-opacity:1\" cx=\"108.7\" cy=\"40.7952\" r=\"3\"/>\n",
       "<circle clip-path=\"url(#clip4102)\" style=\"fill:#000000; stroke:none; fill-opacity:1\" cx=\"117.583\" cy=\"47.8941\" r=\"4\"/>\n",
       "<circle clip-path=\"url(#clip4102)\" style=\"fill:#009af9; stroke:none; fill-opacity:1\" cx=\"117.583\" cy=\"47.8941\" r=\"3\"/>\n",
       "<circle clip-path=\"url(#clip4102)\" style=\"fill:#000000; stroke:none; fill-opacity:1\" cx=\"126.466\" cy=\"54.9542\" r=\"4\"/>\n",
       "<circle clip-path=\"url(#clip4102)\" style=\"fill:#009af9; stroke:none; fill-opacity:1\" cx=\"126.466\" cy=\"54.9542\" r=\"3\"/>\n",
       "<circle clip-path=\"url(#clip4102)\" style=\"fill:#000000; stroke:none; fill-opacity:1\" cx=\"135.35\" cy=\"61.9758\" r=\"4\"/>\n",
       "<circle clip-path=\"url(#clip4102)\" style=\"fill:#009af9; stroke:none; fill-opacity:1\" cx=\"135.35\" cy=\"61.9758\" r=\"3\"/>\n",
       "<circle clip-path=\"url(#clip4102)\" style=\"fill:#000000; stroke:none; fill-opacity:1\" cx=\"144.233\" cy=\"68.9588\" r=\"4\"/>\n",
       "<circle clip-path=\"url(#clip4102)\" style=\"fill:#009af9; stroke:none; fill-opacity:1\" cx=\"144.233\" cy=\"68.9588\" r=\"3\"/>\n",
       "<circle clip-path=\"url(#clip4102)\" style=\"fill:#000000; stroke:none; fill-opacity:1\" cx=\"153.116\" cy=\"75.9036\" r=\"4\"/>\n",
       "<circle clip-path=\"url(#clip4102)\" style=\"fill:#009af9; stroke:none; fill-opacity:1\" cx=\"153.116\" cy=\"75.9036\" r=\"3\"/>\n",
       "<circle clip-path=\"url(#clip4102)\" style=\"fill:#000000; stroke:none; fill-opacity:1\" cx=\"162\" cy=\"82.81\" r=\"4\"/>\n",
       "<circle clip-path=\"url(#clip4102)\" style=\"fill:#009af9; stroke:none; fill-opacity:1\" cx=\"162\" cy=\"82.81\" r=\"3\"/>\n",
       "<circle clip-path=\"url(#clip4102)\" style=\"fill:#000000; stroke:none; fill-opacity:1\" cx=\"170.883\" cy=\"89.6784\" r=\"4\"/>\n",
       "<circle clip-path=\"url(#clip4102)\" style=\"fill:#009af9; stroke:none; fill-opacity:1\" cx=\"170.883\" cy=\"89.6784\" r=\"3\"/>\n",
       "<circle clip-path=\"url(#clip4102)\" style=\"fill:#000000; stroke:none; fill-opacity:1\" cx=\"179.766\" cy=\"96.5089\" r=\"4\"/>\n",
       "<circle clip-path=\"url(#clip4102)\" style=\"fill:#009af9; stroke:none; fill-opacity:1\" cx=\"179.766\" cy=\"96.5089\" r=\"3\"/>\n",
       "<circle clip-path=\"url(#clip4102)\" style=\"fill:#000000; stroke:none; fill-opacity:1\" cx=\"188.649\" cy=\"103.301\" r=\"4\"/>\n",
       "<circle clip-path=\"url(#clip4102)\" style=\"fill:#009af9; stroke:none; fill-opacity:1\" cx=\"188.649\" cy=\"103.301\" r=\"3\"/>\n",
       "<circle clip-path=\"url(#clip4102)\" style=\"fill:#000000; stroke:none; fill-opacity:1\" cx=\"197.533\" cy=\"110.056\" r=\"4\"/>\n",
       "<circle clip-path=\"url(#clip4102)\" style=\"fill:#009af9; stroke:none; fill-opacity:1\" cx=\"197.533\" cy=\"110.056\" r=\"3\"/>\n",
       "<circle clip-path=\"url(#clip4102)\" style=\"fill:#000000; stroke:none; fill-opacity:1\" cx=\"206.416\" cy=\"116.774\" r=\"4\"/>\n",
       "<circle clip-path=\"url(#clip4102)\" style=\"fill:#009af9; stroke:none; fill-opacity:1\" cx=\"206.416\" cy=\"116.774\" r=\"3\"/>\n",
       "<circle clip-path=\"url(#clip4102)\" style=\"fill:#000000; stroke:none; fill-opacity:1\" cx=\"215.299\" cy=\"123.453\" r=\"4\"/>\n",
       "<circle clip-path=\"url(#clip4102)\" style=\"fill:#009af9; stroke:none; fill-opacity:1\" cx=\"215.299\" cy=\"123.453\" r=\"3\"/>\n",
       "<circle clip-path=\"url(#clip4102)\" style=\"fill:#000000; stroke:none; fill-opacity:1\" cx=\"224.183\" cy=\"130.096\" r=\"4\"/>\n",
       "<circle clip-path=\"url(#clip4102)\" style=\"fill:#009af9; stroke:none; fill-opacity:1\" cx=\"224.183\" cy=\"130.096\" r=\"3\"/>\n",
       "<circle clip-path=\"url(#clip4102)\" style=\"fill:#000000; stroke:none; fill-opacity:1\" cx=\"233.066\" cy=\"136.701\" r=\"4\"/>\n",
       "<circle clip-path=\"url(#clip4102)\" style=\"fill:#009af9; stroke:none; fill-opacity:1\" cx=\"233.066\" cy=\"136.701\" r=\"3\"/>\n",
       "<circle clip-path=\"url(#clip4102)\" style=\"fill:#000000; stroke:none; fill-opacity:1\" cx=\"241.949\" cy=\"143.27\" r=\"4\"/>\n",
       "<circle clip-path=\"url(#clip4102)\" style=\"fill:#009af9; stroke:none; fill-opacity:1\" cx=\"241.949\" cy=\"143.27\" r=\"3\"/>\n",
       "<circle clip-path=\"url(#clip4102)\" style=\"fill:#000000; stroke:none; fill-opacity:1\" cx=\"250.833\" cy=\"149.801\" r=\"4\"/>\n",
       "<circle clip-path=\"url(#clip4102)\" style=\"fill:#009af9; stroke:none; fill-opacity:1\" cx=\"250.833\" cy=\"149.801\" r=\"3\"/>\n",
       "<circle clip-path=\"url(#clip4102)\" style=\"fill:#000000; stroke:none; fill-opacity:1\" cx=\"259.716\" cy=\"156.295\" r=\"4\"/>\n",
       "<circle clip-path=\"url(#clip4102)\" style=\"fill:#009af9; stroke:none; fill-opacity:1\" cx=\"259.716\" cy=\"156.295\" r=\"3\"/>\n",
       "<circle clip-path=\"url(#clip4102)\" style=\"fill:#000000; stroke:none; fill-opacity:1\" cx=\"268.599\" cy=\"162.753\" r=\"4\"/>\n",
       "<circle clip-path=\"url(#clip4102)\" style=\"fill:#009af9; stroke:none; fill-opacity:1\" cx=\"268.599\" cy=\"162.753\" r=\"3\"/>\n",
       "<circle clip-path=\"url(#clip4102)\" style=\"fill:#000000; stroke:none; fill-opacity:1\" cx=\"277.483\" cy=\"169.174\" r=\"4\"/>\n",
       "<circle clip-path=\"url(#clip4102)\" style=\"fill:#009af9; stroke:none; fill-opacity:1\" cx=\"277.483\" cy=\"169.174\" r=\"3\"/>\n",
       "<circle clip-path=\"url(#clip4102)\" style=\"fill:#000000; stroke:none; fill-opacity:1\" cx=\"286.366\" cy=\"175.559\" r=\"4\"/>\n",
       "<circle clip-path=\"url(#clip4102)\" style=\"fill:#009af9; stroke:none; fill-opacity:1\" cx=\"286.366\" cy=\"175.559\" r=\"3\"/>\n",
       "<circle clip-path=\"url(#clip4102)\" style=\"fill:#000000; stroke:none; fill-opacity:1\" cx=\"295.249\" cy=\"181.908\" r=\"4\"/>\n",
       "<circle clip-path=\"url(#clip4102)\" style=\"fill:#009af9; stroke:none; fill-opacity:1\" cx=\"295.249\" cy=\"181.908\" r=\"3\"/>\n",
       "<circle clip-path=\"url(#clip4102)\" style=\"fill:#000000; stroke:none; fill-opacity:1\" cx=\"304.133\" cy=\"188.22\" r=\"4\"/>\n",
       "<circle clip-path=\"url(#clip4102)\" style=\"fill:#009af9; stroke:none; fill-opacity:1\" cx=\"304.133\" cy=\"188.22\" r=\"3\"/>\n",
       "<circle clip-path=\"url(#clip4102)\" style=\"fill:#000000; stroke:none; fill-opacity:1\" cx=\"313.016\" cy=\"194.496\" r=\"4\"/>\n",
       "<circle clip-path=\"url(#clip4102)\" style=\"fill:#009af9; stroke:none; fill-opacity:1\" cx=\"313.016\" cy=\"194.496\" r=\"3\"/>\n",
       "<circle clip-path=\"url(#clip4102)\" style=\"fill:#000000; stroke:none; fill-opacity:1\" cx=\"321.899\" cy=\"200.736\" r=\"4\"/>\n",
       "<circle clip-path=\"url(#clip4102)\" style=\"fill:#009af9; stroke:none; fill-opacity:1\" cx=\"321.899\" cy=\"200.736\" r=\"3\"/>\n",
       "<circle clip-path=\"url(#clip4102)\" style=\"fill:#000000; stroke:none; fill-opacity:1\" cx=\"330.783\" cy=\"206.941\" r=\"4\"/>\n",
       "<circle clip-path=\"url(#clip4102)\" style=\"fill:#009af9; stroke:none; fill-opacity:1\" cx=\"330.783\" cy=\"206.941\" r=\"3\"/>\n",
       "<circle clip-path=\"url(#clip4102)\" style=\"fill:#000000; stroke:none; fill-opacity:1\" cx=\"339.666\" cy=\"213.109\" r=\"4\"/>\n",
       "<circle clip-path=\"url(#clip4102)\" style=\"fill:#009af9; stroke:none; fill-opacity:1\" cx=\"339.666\" cy=\"213.109\" r=\"3\"/>\n",
       "<circle clip-path=\"url(#clip4102)\" style=\"fill:#000000; stroke:none; fill-opacity:1\" cx=\"348.549\" cy=\"219.242\" r=\"4\"/>\n",
       "<circle clip-path=\"url(#clip4102)\" style=\"fill:#009af9; stroke:none; fill-opacity:1\" cx=\"348.549\" cy=\"219.242\" r=\"3\"/>\n",
       "<circle clip-path=\"url(#clip4102)\" style=\"fill:#000000; stroke:none; fill-opacity:1\" cx=\"357.433\" cy=\"225.34\" r=\"4\"/>\n",
       "<circle clip-path=\"url(#clip4102)\" style=\"fill:#009af9; stroke:none; fill-opacity:1\" cx=\"357.433\" cy=\"225.34\" r=\"3\"/>\n",
       "<circle clip-path=\"url(#clip4102)\" style=\"fill:#000000; stroke:none; fill-opacity:1\" cx=\"366.316\" cy=\"231.403\" r=\"4\"/>\n",
       "<circle clip-path=\"url(#clip4102)\" style=\"fill:#009af9; stroke:none; fill-opacity:1\" cx=\"366.316\" cy=\"231.403\" r=\"3\"/>\n",
       "<circle clip-path=\"url(#clip4102)\" style=\"fill:#000000; stroke:none; fill-opacity:1\" cx=\"375.199\" cy=\"237.43\" r=\"4\"/>\n",
       "<circle clip-path=\"url(#clip4102)\" style=\"fill:#009af9; stroke:none; fill-opacity:1\" cx=\"375.199\" cy=\"237.43\" r=\"3\"/>\n",
       "<circle clip-path=\"url(#clip4102)\" style=\"fill:#000000; stroke:none; fill-opacity:1\" cx=\"384.082\" cy=\"243.422\" r=\"4\"/>\n",
       "<circle clip-path=\"url(#clip4102)\" style=\"fill:#009af9; stroke:none; fill-opacity:1\" cx=\"384.082\" cy=\"243.422\" r=\"3\"/>\n",
       "<circle clip-path=\"url(#clip4102)\" style=\"fill:#000000; stroke:none; fill-opacity:1\" cx=\"392.966\" cy=\"249.379\" r=\"4\"/>\n",
       "<circle clip-path=\"url(#clip4102)\" style=\"fill:#009af9; stroke:none; fill-opacity:1\" cx=\"392.966\" cy=\"249.379\" r=\"3\"/>\n",
       "<circle clip-path=\"url(#clip4102)\" style=\"fill:#000000; stroke:none; fill-opacity:1\" cx=\"401.849\" cy=\"255.301\" r=\"4\"/>\n",
       "<circle clip-path=\"url(#clip4102)\" style=\"fill:#009af9; stroke:none; fill-opacity:1\" cx=\"401.849\" cy=\"255.301\" r=\"3\"/>\n",
       "<circle clip-path=\"url(#clip4102)\" style=\"fill:#000000; stroke:none; fill-opacity:1\" cx=\"410.732\" cy=\"261.189\" r=\"4\"/>\n",
       "<circle clip-path=\"url(#clip4102)\" style=\"fill:#009af9; stroke:none; fill-opacity:1\" cx=\"410.732\" cy=\"261.189\" r=\"3\"/>\n",
       "<circle clip-path=\"url(#clip4102)\" style=\"fill:#000000; stroke:none; fill-opacity:1\" cx=\"419.616\" cy=\"267.042\" r=\"4\"/>\n",
       "<circle clip-path=\"url(#clip4102)\" style=\"fill:#009af9; stroke:none; fill-opacity:1\" cx=\"419.616\" cy=\"267.042\" r=\"3\"/>\n",
       "<circle clip-path=\"url(#clip4102)\" style=\"fill:#000000; stroke:none; fill-opacity:1\" cx=\"428.499\" cy=\"272.86\" r=\"4\"/>\n",
       "<circle clip-path=\"url(#clip4102)\" style=\"fill:#009af9; stroke:none; fill-opacity:1\" cx=\"428.499\" cy=\"272.86\" r=\"3\"/>\n",
       "<circle clip-path=\"url(#clip4102)\" style=\"fill:#000000; stroke:none; fill-opacity:1\" cx=\"437.382\" cy=\"278.644\" r=\"4\"/>\n",
       "<circle clip-path=\"url(#clip4102)\" style=\"fill:#009af9; stroke:none; fill-opacity:1\" cx=\"437.382\" cy=\"278.644\" r=\"3\"/>\n",
       "<circle clip-path=\"url(#clip4102)\" style=\"fill:#000000; stroke:none; fill-opacity:1\" cx=\"446.266\" cy=\"284.394\" r=\"4\"/>\n",
       "<circle clip-path=\"url(#clip4102)\" style=\"fill:#009af9; stroke:none; fill-opacity:1\" cx=\"446.266\" cy=\"284.394\" r=\"3\"/>\n",
       "<circle clip-path=\"url(#clip4102)\" style=\"fill:#000000; stroke:none; fill-opacity:1\" cx=\"455.149\" cy=\"290.11\" r=\"4\"/>\n",
       "<circle clip-path=\"url(#clip4102)\" style=\"fill:#009af9; stroke:none; fill-opacity:1\" cx=\"455.149\" cy=\"290.11\" r=\"3\"/>\n",
       "<circle clip-path=\"url(#clip4102)\" style=\"fill:#000000; stroke:none; fill-opacity:1\" cx=\"464.032\" cy=\"295.792\" r=\"4\"/>\n",
       "<circle clip-path=\"url(#clip4102)\" style=\"fill:#009af9; stroke:none; fill-opacity:1\" cx=\"464.032\" cy=\"295.792\" r=\"3\"/>\n",
       "<circle clip-path=\"url(#clip4102)\" style=\"fill:#000000; stroke:none; fill-opacity:1\" cx=\"472.916\" cy=\"301.44\" r=\"4\"/>\n",
       "<circle clip-path=\"url(#clip4102)\" style=\"fill:#009af9; stroke:none; fill-opacity:1\" cx=\"472.916\" cy=\"301.44\" r=\"3\"/>\n",
       "<circle clip-path=\"url(#clip4102)\" style=\"fill:#000000; stroke:none; fill-opacity:1\" cx=\"481.799\" cy=\"307.054\" r=\"4\"/>\n",
       "<circle clip-path=\"url(#clip4102)\" style=\"fill:#009af9; stroke:none; fill-opacity:1\" cx=\"481.799\" cy=\"307.054\" r=\"3\"/>\n",
       "<circle clip-path=\"url(#clip4102)\" style=\"fill:#000000; stroke:none; fill-opacity:1\" cx=\"490.682\" cy=\"312.634\" r=\"4\"/>\n",
       "<circle clip-path=\"url(#clip4102)\" style=\"fill:#009af9; stroke:none; fill-opacity:1\" cx=\"490.682\" cy=\"312.634\" r=\"3\"/>\n",
       "<circle clip-path=\"url(#clip4102)\" style=\"fill:#000000; stroke:none; fill-opacity:1\" cx=\"499.566\" cy=\"318.181\" r=\"4\"/>\n",
       "<circle clip-path=\"url(#clip4102)\" style=\"fill:#009af9; stroke:none; fill-opacity:1\" cx=\"499.566\" cy=\"318.181\" r=\"3\"/>\n",
       "<circle clip-path=\"url(#clip4102)\" style=\"fill:#000000; stroke:none; fill-opacity:1\" cx=\"508.449\" cy=\"323.695\" r=\"4\"/>\n",
       "<circle clip-path=\"url(#clip4102)\" style=\"fill:#009af9; stroke:none; fill-opacity:1\" cx=\"508.449\" cy=\"323.695\" r=\"3\"/>\n",
       "<circle clip-path=\"url(#clip4102)\" style=\"fill:#000000; stroke:none; fill-opacity:1\" cx=\"517.332\" cy=\"329.175\" r=\"4\"/>\n",
       "<circle clip-path=\"url(#clip4102)\" style=\"fill:#009af9; stroke:none; fill-opacity:1\" cx=\"517.332\" cy=\"329.175\" r=\"3\"/>\n",
       "<circle clip-path=\"url(#clip4102)\" style=\"fill:#000000; stroke:none; fill-opacity:1\" cx=\"526.216\" cy=\"334.623\" r=\"4\"/>\n",
       "<circle clip-path=\"url(#clip4102)\" style=\"fill:#009af9; stroke:none; fill-opacity:1\" cx=\"526.216\" cy=\"334.623\" r=\"3\"/>\n",
       "<circle clip-path=\"url(#clip4102)\" style=\"fill:#000000; stroke:none; fill-opacity:1\" cx=\"535.099\" cy=\"340.037\" r=\"4\"/>\n",
       "<circle clip-path=\"url(#clip4102)\" style=\"fill:#009af9; stroke:none; fill-opacity:1\" cx=\"535.099\" cy=\"340.037\" r=\"3\"/>\n",
       "<circle clip-path=\"url(#clip4102)\" style=\"fill:#000000; stroke:none; fill-opacity:1\" cx=\"543.982\" cy=\"345.418\" r=\"4\"/>\n",
       "<circle clip-path=\"url(#clip4102)\" style=\"fill:#009af9; stroke:none; fill-opacity:1\" cx=\"543.982\" cy=\"345.418\" r=\"3\"/>\n",
       "<circle clip-path=\"url(#clip4102)\" style=\"fill:#000000; stroke:none; fill-opacity:1\" cx=\"552.866\" cy=\"350.766\" r=\"4\"/>\n",
       "<circle clip-path=\"url(#clip4102)\" style=\"fill:#009af9; stroke:none; fill-opacity:1\" cx=\"552.866\" cy=\"350.766\" r=\"3\"/>\n",
       "<polyline clip-path=\"url(#clip4102)\" style=\"stroke:#e26f46; stroke-width:3; stroke-opacity:1; fill:none\" points=\"\n",
       "  95.3746,218.906 566.19,218.906 \n",
       "  \"/>\n",
       "</svg>\n"
      ]
     },
     "execution_count": 11,
     "metadata": {},
     "output_type": "execute_result"
    }
   ],
   "source": [
    "h0 = [real(Ht(0.0, x)[1]) for x in 28.0:0.01:28.5]\n",
    "scatter(28.0:0.01:28.5, h0, legend=false)\n",
    "hline!([0.0], w=3)\n",
    "title!(\"H0's zero near 28.26\")\n",
    "xlabel!(\"x\")\n",
    "ylabel!(\"H0\")"
   ]
  }
 ],
 "metadata": {
  "kernelspec": {
   "display_name": "Julia 0.6.1",
   "language": "julia",
   "name": "julia-0.6"
  },
  "language_info": {
   "file_extension": ".jl",
   "mimetype": "application/julia",
   "name": "julia",
   "version": "0.6.2"
  }
 },
 "nbformat": 4,
 "nbformat_minor": 2
}
