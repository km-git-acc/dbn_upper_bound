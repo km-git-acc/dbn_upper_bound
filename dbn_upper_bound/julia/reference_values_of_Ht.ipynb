{
 "cells": [
  {
   "cell_type": "markdown",
   "metadata": {},
   "source": [
    "# Reference values of H<sub>0.4</sub>(x + 0.4i)\n",
    "\n",
    "Anonymous recently [posted](https://terrytao.wordpress.com/2018/03/02/polymath15-fifth-thread-finishing-off-the-test-problem/#comment-493456) some reference values of $H_{0.4}(x+0.4i)$ in png image format. Here I've converted them to MathJax rendered LaTeX which can be easily copied and pasted into code with minor manual edits.\n",
    "\n",
    "I've also presented results from an early Julia implementation of $H_t$ which is roughly equivalent to the Python function `Ht_complex`. It estimates $\\Phi(u)$ by partial summation and integrates by [adaptive Gauss-Kronrod quadrature](https://github.com/JuliaMath/QuadGK.jl/blob/master/src/QuadGK.jl#L179). As can be seen below, the early implementation becomes seriously inaccurate when $x \\gt 100.$ Even the accompanying error estimates become, well, erroneous.\n",
    "\n",
    "Each section consists of the original png image, followed by MathJax rendered LaTeX, followed by the Julia compuation. For easy copying, right-click on the LaTeX and choose Show Math as LaTeX commands.\n"
   ]
  },
  {
   "cell_type": "markdown",
   "metadata": {},
   "source": [
    "## x = 10\n",
    "\n",
    "![x=10](https://s0.wp.com/latex.php?latex=H_%7B0.4%7D%2810+%2B+0.4+i%29+%3D+0.034420270187052311229+-+0.0016782531784355935738+i&bg=ffffff&fg=545454&s=0&zoom=2)"
   ]
  },
  {
   "cell_type": "markdown",
   "metadata": {},
   "source": [
    "$$H_{0.4}(10+0.4i) = 0.034420270187052311229 - 0.0016782531784355935738i$$"
   ]
  },
  {
   "cell_type": "code",
   "execution_count": 1,
   "metadata": {
    "collapsed": true
   },
   "outputs": [],
   "source": [
    "using DBNUpperBound"
   ]
  },
  {
   "cell_type": "code",
   "execution_count": 2,
   "metadata": {},
   "outputs": [
    {
     "data": {
      "text/plain": [
       "(0.034420270187052314 - 0.001678253178435594im, 1.1036393762435245e-12)"
      ]
     },
     "execution_count": 2,
     "metadata": {},
     "output_type": "execute_result"
    }
   ],
   "source": [
    "Ht(.4, 10+.4im)"
   ]
  },
  {
   "cell_type": "markdown",
   "metadata": {},
   "source": [
    "## x=30\n",
    "![x=30](https://s0.wp.com/latex.php?latex=H_%7B0.4%7D%2830+%2B+0.4+i%29+%3D+-0.00010001026469315639165+-+7.1357019921469872653+%5Ctimes+10%5E%7B-6%7D+i&bg=ffffff&fg=545454&s=0&zoom=2)"
   ]
  },
  {
   "cell_type": "code",
   "execution_count": 3,
   "metadata": {},
   "outputs": [
    {
     "data": {
      "text/plain": [
       "(-0.00010001026469315682 - 7.135701992146829e-6im, 1.251843721301799e-13)"
      ]
     },
     "execution_count": 3,
     "metadata": {},
     "output_type": "execute_result"
    }
   ],
   "source": [
    "Ht(.4, 30+.4im)"
   ]
  },
  {
   "cell_type": "markdown",
   "metadata": {},
   "source": [
    "$$H_{0.4}(30+0.4i) = -0.00010001026469315639165 - 7.1357019921469872653*10^{-6}i$$"
   ]
  },
  {
   "cell_type": "markdown",
   "metadata": {},
   "source": [
    "## x=100\n",
    "![x=100](https://s0.wp.com/latex.php?latex=H_%7B0.4%7D%28100+%2B+0.4+i%29+%3D+6.7021522172791266841+%5Ctimes+10%5E%7B-16%7D+%2B+3.1337965840705569244+%5Ctimes+10%5E%7B-16%7D+i&bg=ffffff&fg=545454&s=0&zoom=2)"
   ]
  },
  {
   "cell_type": "markdown",
   "metadata": {},
   "source": [
    "$$H_{0.4}(100+0.4i) = 6.7021522172791266841*10^{-16} + 3.1337965840705569244*10^{-16}i$$"
   ]
  },
  {
   "cell_type": "code",
   "execution_count": 4,
   "metadata": {},
   "outputs": [
    {
     "data": {
      "text/plain": [
       "(6.68586716311224e-16 + 3.1336998999720566e-16im, 1.5043168006294553e-16)"
      ]
     },
     "execution_count": 4,
     "metadata": {},
     "output_type": "execute_result"
    }
   ],
   "source": [
    "Ht(.4, 100+.4im)"
   ]
  },
  {
   "cell_type": "markdown",
   "metadata": {},
   "source": [
    "## x = 300\n",
    "![x=300](https://s0.wp.com/latex.php?latex=H_%7B0.4%7D%28300+%2B+0.4+i%29+%3D+-4.0159674206251463625+%5Ctimes+10%5E%7B-49%7D+-+1.4006524430296850032+%5Ctimes+10%5E%7B-49%7D+i&bg=ffffff&fg=545454&s=0&zoom=2)"
   ]
  },
  {
   "cell_type": "markdown",
   "metadata": {},
   "source": [
    "$$H_{0.4}(300+0.4i) = -4.0159674206251463624*10^{-49} - 1.4006524430296850032*10^{-49}i$$"
   ]
  },
  {
   "cell_type": "code",
   "execution_count": 5,
   "metadata": {},
   "outputs": [
    {
     "data": {
      "text/plain": [
       "(-3.7947076036992655e-19 + 8.131516293641283e-20im, 1.8561891905275613e-16)"
      ]
     },
     "execution_count": 5,
     "metadata": {},
     "output_type": "execute_result"
    }
   ],
   "source": [
    "Ht(.4, 300+.4im)"
   ]
  },
  {
   "cell_type": "markdown",
   "metadata": {},
   "source": [
    "## x=1000\n",
    "![x=1000](https://s0.wp.com/latex.php?latex=H_%7B0.4%7D%281000+%2B+0.4+i%29+%3D+1.4847586783170623283+%5Ctimes+10%5E%7B-169%7D+%2B+3.0506306235580557897+%5Ctimes+10%5E%7B-167%7D+i&bg=ffffff&fg=545454&s=0&zoom=2)"
   ]
  },
  {
   "cell_type": "markdown",
   "metadata": {},
   "source": [
    "$$H_{0.4}(1000+0.4i) = 1.4847586783170623283*10^{-169} + 3.0506306235580557897*10^{-169}i$$"
   ]
  },
  {
   "cell_type": "code",
   "execution_count": 6,
   "metadata": {},
   "outputs": [
    {
     "data": {
      "text/plain": [
       "(-1.1686937089741209e-18 + 2.5500530718937875e-20im, 2.2322557270968237e-16)"
      ]
     },
     "execution_count": 6,
     "metadata": {},
     "output_type": "execute_result"
    }
   ],
   "source": [
    "Ht(.4, 1000+.4im)"
   ]
  },
  {
   "cell_type": "markdown",
   "metadata": {},
   "source": [
    "## x=3000\n",
    "![x=3000](https://s0.wp.com/latex.php?latex=H_%7B0.4%7D%283000+%2B+0.4+i%29+%3D+-1.1441895900436789748+%5Ctimes+10%5E%7B-507%7D+%2B+1.5701563504659934332+%5Ctimes+10%5E%7B-507%7D+i&bg=ffffff&fg=545454&s=0&zoom=2)"
   ]
  },
  {
   "cell_type": "markdown",
   "metadata": {},
   "source": [
    "$$H_{0.4}(3000+0.4i) = -1.1441895900436789748*10^{-507} + 1.5701563504659934332*10^{-507}i$$"
   ]
  },
  {
   "cell_type": "code",
   "execution_count": 7,
   "metadata": {},
   "outputs": [
    {
     "data": {
      "text/plain": [
       "(1.1540823906339842e-19 - 2.6959470524328278e-20im, 2.2033038239542436e-16)"
      ]
     },
     "execution_count": 7,
     "metadata": {},
     "output_type": "execute_result"
    }
   ],
   "source": [
    "Ht(.4, 3000+.4im)"
   ]
  },
  {
   "cell_type": "markdown",
   "metadata": {},
   "source": [
    "## x=10000\n",
    "![x=10000](https://s0.wp.com/latex.php?latex=H_%7B0.4%7D%2810000+%2B+0.4+i%29+%3D+-5.5773401535231430494+%5Ctimes+10%5E%7B-1701%7D+-+4.0878432123908616412+%5Ctimes+10%5E%7B-1700%7D+i&bg=ffffff&fg=545454&s=0&zoom=2)"
   ]
  },
  {
   "cell_type": "markdown",
   "metadata": {},
   "source": [
    "$$H_{0.4}(10000+0.4i) = -5.5773401535231430494*10^{-1701} - 4.0878432123908616412*10^{-1700}i$$"
   ]
  },
  {
   "cell_type": "code",
   "execution_count": 8,
   "metadata": {},
   "outputs": [
    {
     "data": {
      "text/plain": [
       "(-2.261577969168982e-19 - 5.513985963278482e-20im, 2.1900163251048725e-16)"
      ]
     },
     "execution_count": 8,
     "metadata": {},
     "output_type": "execute_result"
    }
   ],
   "source": [
    "Ht(.4, 10000+.4im)"
   ]
  }
 ],
 "metadata": {
  "kernelspec": {
   "display_name": "Julia 0.6.1",
   "language": "julia",
   "name": "julia-0.6"
  },
  "language_info": {
   "file_extension": ".jl",
   "mimetype": "application/julia",
   "name": "julia",
   "version": "0.6.2"
  }
 },
 "nbformat": 4,
 "nbformat_minor": 2
}
